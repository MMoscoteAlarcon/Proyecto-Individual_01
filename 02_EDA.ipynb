{
 "cells": [
  {
   "cell_type": "markdown",
   "metadata": {},
   "source": [
    "### **2. Proceso de _EDA_ de los datos del Proyecto Individual 01**\n",
    "### **(_Exploratory Data Analysis_)**\n",
    " \n",
    "\n",
    "<br> <br> <br> "
   ]
  },
  {
   "cell_type": "code",
   "execution_count": null,
   "metadata": {},
   "outputs": [],
   "source": []
  }
 ],
 "metadata": {
  "language_info": {
   "name": "python"
  }
 },
 "nbformat": 4,
 "nbformat_minor": 2
}
